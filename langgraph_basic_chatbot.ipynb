{
  "nbformat": 4,
  "nbformat_minor": 0,
  "metadata": {
    "colab": {
      "provenance": [],
      "authorship_tag": "ABX9TyOIUl3yyFS+p6bdP2nqxX8s",
      "include_colab_link": true
    },
    "kernelspec": {
      "name": "python3",
      "display_name": "Python 3"
    },
    "language_info": {
      "name": "python"
    }
  },
  "cells": [
    {
      "cell_type": "markdown",
      "metadata": {
        "id": "view-in-github",
        "colab_type": "text"
      },
      "source": [
        "<a href=\"https://colab.research.google.com/github/UzairYasin/langgraph/blob/main/langgraph_basic_chatbot.ipynb\" target=\"_parent\"><img src=\"https://colab.research.google.com/assets/colab-badge.svg\" alt=\"Open In Colab\"/></a>"
      ]
    },
    {
      "cell_type": "code",
      "execution_count": 1,
      "metadata": {
        "id": "aIGhtj5C269v"
      },
      "outputs": [],
      "source": [
        "%%capture --no-stderr\n",
        "%pip install --quiet -U langgraph-checkpoint-sqlite langchain_core langsmith langgraph langchain_google_genai"
      ]
    },
    {
      "cell_type": "code",
      "source": [
        "from google.colab import userdata\n",
        "import os\n",
        "\n",
        "GEMINI_API_KEY = userdata.get('GEMINI_API_KEY')\n",
        "os.environ[\"LANGCHAIN_API_KEY\"] = userdata.get('LANGCHAIN_API_KEY')\n",
        "os.environ[\"LANGCHAIN_TRACING_V2\"] = \"true\"\n",
        "os.environ[\"LANGCHAIN_PROJECT\"] = \"langchain-academy\""
      ],
      "metadata": {
        "id": "moGpay_04Ha1"
      },
      "execution_count": 2,
      "outputs": []
    },
    {
      "cell_type": "code",
      "source": [
        "from typing import Annotated\n",
        "from langgraph.graph.message import add_messages\n",
        "from typing_extensions import TypedDict\n",
        "from langgraph.graph import StateGraph, START, END\n",
        "\n",
        "class State(TypedDict):\n",
        "  messages: Annotated[list, add_messages]"
      ],
      "metadata": {
        "id": "fzi23ESi5fcl"
      },
      "execution_count": 15,
      "outputs": []
    },
    {
      "cell_type": "markdown",
      "source": [
        "Adding LLM and node"
      ],
      "metadata": {
        "id": "tRXdbXmrxIX2"
      }
    },
    {
      "cell_type": "code",
      "source": [
        "from langchain_google_genai import ChatGoogleGenerativeAI\n",
        "from IPython.core.display import Markdown\n",
        "\n",
        "llm = ChatGoogleGenerativeAI(\n",
        "    model=\"gemini-1.5-flash\",\n",
        "    api_key= GEMINI_API_KEY,\n",
        "    temperature=0.2\n",
        "    )\n",
        "\n",
        "def chatbot(state:State):\n",
        "\n",
        "  return {\"messages\": [llm.invoke(state[\"messages\"])]}"
      ],
      "metadata": {
        "id": "FBuNJ7KKxNb2"
      },
      "execution_count": 16,
      "outputs": []
    },
    {
      "cell_type": "markdown",
      "source": [
        "Building Graph"
      ],
      "metadata": {
        "id": "QdwuUO8AwdBs"
      }
    },
    {
      "cell_type": "code",
      "source": [
        "graph_builder = StateGraph(State)\n",
        "\n",
        "graph_builder.add_node('chatbot', chatbot)\n",
        "graph_builder.add_edge(START, 'chatbot')\n",
        "graph_builder.add_edge('chatbot', END)\n",
        "\n",
        "graph = graph_builder.compile()"
      ],
      "metadata": {
        "id": "f46e71vw5eVo"
      },
      "execution_count": 17,
      "outputs": []
    },
    {
      "cell_type": "markdown",
      "source": [
        "Building graph image"
      ],
      "metadata": {
        "id": "EyR3WtxczTZN"
      }
    },
    {
      "cell_type": "code",
      "source": [
        "from IPython.display import Image, display\n",
        "\n",
        "try:\n",
        "    display(Image(graph.get_graph().draw_mermaid_png()))\n",
        "except Exception:\n",
        "    # This requires some extra dependencies and is optional\n",
        "    pass"
      ],
      "metadata": {
        "colab": {
          "base_uri": "https://localhost:8080/",
          "height": 251
        },
        "id": "8FpUh42fzU3l",
        "outputId": "f0d9b1b5-f87f-4b7b-a1e7-e7a43af24e79"
      },
      "execution_count": 18,
      "outputs": [
        {
          "output_type": "display_data",
          "data": {
            "image/png": "[encoded data removed]",
            "text/plain": [
              "<IPython.core.display.Image object>"
            ]
          },
          "metadata": {}
        }
      ]
    },
    {
      "cell_type": "code",
      "source": [
        "def stream_graph_updates(user_input: str):\n",
        "  for event in graph.stream({\"messages\": [(\"user\", user_input)]}):\n",
        "      for value in event.values():\n",
        "          print(\"Assistant:\", value[\"messages\"][-1].content)"
      ],
      "metadata": {
        "id": "iPCK5it7NQit"
      },
      "execution_count": 25,
      "outputs": []
    },
    {
      "cell_type": "code",
      "source": [
        "while True:\n",
        "    try:\n",
        "        user_input = input(\"User: \")\n",
        "        if user_input.lower() in [\"quit\", \"exit\", \"q\"]:\n",
        "            print(\"Goodbye!\")\n",
        "            break\n",
        "\n",
        "        stream_graph_updates(user_input)\n",
        "    except:\n",
        "        # fallback if input() is not available\n",
        "        user_input = \"What do you know about LangGraph?\"\n",
        "        print(\"User: \" + user_input)\n",
        "        stream_graph_updates(user_input)\n",
        "        break"
      ],
      "metadata": {
        "colab": {
          "base_uri": "https://localhost:8080/"
        },
        "id": "8uLgE5Qj0m3a",
        "outputId": "8efb1eb9-07ba-4ded-e7ff-6d3982027e3e"
      },
      "execution_count": 26,
      "outputs": [
        {
          "output_type": "stream",
          "name": "stdout",
          "text": [
            "User: hi\n",
            "Assistant: Hi there! How can I help you today?\n",
            "\n",
            "User: my name is khalid\n",
            "Assistant: It's nice to meet you, Khalid.\n",
            "\n",
            "User: i live in california\n",
            "Assistant: That's great!  California is a beautiful and diverse state.  Is there anything specific you'd like to talk about regarding California?  For example, are you looking for information about a particular city, region, activity, or something else?\n",
            "\n",
            "User: what was my name?\n",
            "Assistant: I do not have access to personal information about you, including your name.  I have no memory of past conversations.\n",
            "\n",
            "User: whats my name\n",
            "Assistant: I do not know your name. I have no access to personal information about you unless you explicitly provide it to me.\n",
            "\n",
            "User: how can i add memory in my langraph chatbot, give short response\n",
            "Assistant: LangChain offers several memory options.  Use a `ConversationBufferMemory` for simple short-term memory or a more advanced `ConversationSummaryMemory` for summarizing past interactions.  You can also integrate external databases for long-term memory.\n",
            "\n",
            "User: q\n",
            "Goodbye!\n"
          ]
        }
      ]
    }
  ]
}